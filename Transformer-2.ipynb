{
 "cells": [
  {
   "cell_type": "markdown",
   "id": "c4b734b2-c718-4fdb-b830-80e787cc5397",
   "metadata": {},
   "source": [
    "# 【PyTorch】Transformerによる時系列予測"
   ]
  },
  {
   "cell_type": "markdown",
   "id": "434a5740-2f46-4e6b-b779-26431f53fae5",
   "metadata": {},
   "source": [
    "### Library"
   ]
  },
  {
   "cell_type": "code",
   "execution_count": 1,
   "id": "2e8f2ff7-94f5-4368-805b-d39de14e7eec",
   "metadata": {
    "tags": []
   },
   "outputs": [],
   "source": [
    "#ライブラリのインポート\n",
    "import math\n",
    "import numpy as np\n",
    "import pandas as pd\n",
    "import seaborn as sns\n",
    "import matplotlib.pyplot as plt\n",
    "\n",
    "\n",
    "from sklearn.preprocessing import StandardScaler\n",
    "\n",
    "import torch\n",
    "import torch.nn as nn\n",
    "from torch.nn import LayerNorm\n",
    "from torch.utils.data import Dataset, DataLoader\n",
    "from torch.nn import TransformerEncoder, TransformerDecoder, TransformerEncoderLayer, TransformerDecoderLayer\n",
    "\n",
    "#ランダムシードの設定\n",
    "fix_seed = 2023\n",
    "np.random.seed(fix_seed)\n",
    "torch.manual_seed(fix_seed)\n",
    "\n",
    "#デバイスの設定\n",
    "device = torch.device('cuda:0' if torch.cuda.is_available() else 'cpu')"
   ]
  },
  {
   "cell_type": "markdown",
   "id": "0826bbfe-fb8d-4922-9337-85efa8138e24",
   "metadata": {},
   "source": [
    "### データのロードと実験用の整形"
   ]
  },
  {
   "cell_type": "code",
   "execution_count": 2,
   "id": "842ada4a-9606-46c0-a48e-81a126bcd890",
   "metadata": {
    "tags": []
   },
   "outputs": [],
   "source": [
    "class AirPassengersDataset(Dataset):\n",
    "    def __init__(self, flag, seq_len, pred_len):\n",
    "        #学習期間と予測期間の設定\n",
    "        self.seq_len = seq_len\n",
    "        self.pred_len = pred_len\n",
    "        \n",
    "        #訓練用、評価用、テスト用を分けるためのフラグ\n",
    "        type_map = {'train': 0, 'val': 1, 'test':2}\n",
    "        self.set_type = type_map[flag]\n",
    "\n",
    "        self.__read_data__()\n",
    "\n",
    "    def __read_data__(self):\n",
    "        \n",
    "        #seabornのデータセットから飛行機の搭乗者数のデータをロード\n",
    "        df_raw = sns.load_dataset('flights')\n",
    "\n",
    "        #訓練用、評価用、テスト用で呼び出すデータを変える\n",
    "        border1s = [0, 12 * 9 - self.seq_len, 12 * 11 - self.seq_len]\n",
    "        border2s = [12 * 9, 12 * 11, 12 * 12]\n",
    "        border1 = border1s[self.set_type]\n",
    "        border2 = border2s[self.set_type]\n",
    "\n",
    "        data = df_raw[['passengers']].values\n",
    "        ss = StandardScaler()\n",
    "        data = ss.fit_transform(data)\n",
    "\n",
    "        self.data = data[border1:border2]\n",
    "\n",
    "    def __getitem__(self, index):\n",
    "        #学習用の系列と予測用の系列を出力\n",
    "        s_begin = index\n",
    "        s_end = s_begin + self.seq_len\n",
    "        r_begin = s_end\n",
    "        r_end = r_begin + self.pred_len\n",
    "\n",
    "        src = self.data[s_begin:s_end]\n",
    "        tgt = self.data[r_begin:r_end]\n",
    "\n",
    "        return src, tgt\n",
    "    \n",
    "    def __len__(self):\n",
    "        return len(self.data) - self.seq_len - self.pred_len + 1"
   ]
  },
  {
   "cell_type": "markdown",
   "id": "7c33f67b-a488-474a-881e-4b5f617555a7",
   "metadata": {},
   "source": [
    "### DataLoaderの定義"
   ]
  },
  {
   "cell_type": "code",
   "execution_count": 3,
   "id": "d5fb0517-b7ca-4288-bafd-d15fe92de1bb",
   "metadata": {
    "tags": []
   },
   "outputs": [],
   "source": [
    "def data_provider(flag, seq_len, pred_len, batch_size):\n",
    "    #flagに合ったデータを出力\n",
    "    data_set = AirPassengersDataset(flag=flag, \n",
    "                                    seq_len=seq_len, \n",
    "                                    pred_len=pred_len\n",
    "                                   )\n",
    "    #データをバッチごとに分けて出力できるDataLoaderを使用\n",
    "    data_loader = DataLoader(data_set,\n",
    "                             batch_size=batch_size, \n",
    "                             shuffle=True\n",
    "                            )\n",
    "    \n",
    "    return data_loader"
   ]
  },
  {
   "cell_type": "markdown",
   "id": "73a459b2-4160-47e0-b385-2b7c62e5e8f9",
   "metadata": {},
   "source": [
    "### エンべディングの定義"
   ]
  },
  {
   "cell_type": "code",
   "execution_count": 4,
   "id": "648177ca-606d-441c-9193-d7fbd9931155",
   "metadata": {
    "tags": []
   },
   "outputs": [],
   "source": [
    "#位置エンコーディングの定義\n",
    "class PositionalEncoding(nn.Module):\n",
    "\n",
    "    def __init__(self, d_model, dropout: float = 0.1, max_len: int = 5000) -> None:\n",
    "        super(PositionalEncoding, self).__init__()\n",
    "        self.dropout = nn.Dropout(p=dropout)\n",
    "        self.d_model = d_model\n",
    "\n",
    "        pe = torch.zeros(max_len, d_model)\n",
    "        position = torch.arange(0, max_len, dtype=torch.float).unsqueeze(1)\n",
    "        div_term = torch.exp(torch.arange(0, d_model, 2).float() * (-math.log(10000.0) / d_model))\n",
    "        pe[:, 0::2] = torch.sin(position * div_term)\n",
    "        pe[:, 1::2] = torch.cos(position * div_term)\n",
    "        pe = pe.unsqueeze(0)\n",
    "        self.register_buffer('pe', pe)\n",
    "\n",
    "    def forward(self, x):\n",
    "        x = x + self.pe[:, :x.size(1)]\n",
    "        return self.dropout(x)\n",
    "\n",
    "#モデルに入力するために次元を拡張する\n",
    "class TokenEmbedding(nn.Module):\n",
    "    def __init__(self, c_in, d_model):\n",
    "        super(TokenEmbedding, self).__init__()\n",
    "        self.tokenConv = nn.Linear(c_in, d_model) \n",
    "\n",
    "    def forward(self, x):\n",
    "        x = self.tokenConv(x)\n",
    "        return x"
   ]
  },
  {
   "cell_type": "markdown",
   "id": "4c518e4b-0704-4419-9534-3a9917bcfe87",
   "metadata": {},
   "source": [
    "### Transformerの定義"
   ]
  },
  {
   "cell_type": "code",
   "execution_count": 5,
   "id": "29078c4c-b071-4479-bdd8-47e8c4c0c8d1",
   "metadata": {
    "tags": []
   },
   "outputs": [],
   "source": [
    "class Transformer(nn.Module):\n",
    "    def __init__(self, num_encoder_layers, num_decoder_layers,\n",
    "        d_model, d_input, d_output,\n",
    "        dim_feedforward = 512, dropout = 0.1, nhead = 8):\n",
    "        \n",
    "        super(Transformer, self).__init__()\n",
    "        \n",
    "\n",
    "        #エンべディングの定義\n",
    "        self.token_embedding_src = TokenEmbedding(d_input, d_model)\n",
    "        self.token_embedding_tgt = TokenEmbedding(d_output, d_model)\n",
    "        self.positional_encoding = PositionalEncoding(d_model, dropout=dropout)\n",
    "        \n",
    "        #エンコーダの定義\n",
    "        encoder_layer = TransformerEncoderLayer(d_model=d_model, \n",
    "                                                nhead=nhead, \n",
    "                                                dim_feedforward=dim_feedforward,\n",
    "                                                dropout=dropout,\n",
    "                                                batch_first=True,\n",
    "                                                activation='gelu'\n",
    "                                               )\n",
    "        encoder_norm = LayerNorm(d_model)\n",
    "        self.transformer_encoder = TransformerEncoder(encoder_layer, \n",
    "                                                      num_layers=num_encoder_layers,\n",
    "                                                      norm=encoder_norm\n",
    "                                                     )\n",
    "        \n",
    "        #デコーダの定義\n",
    "        decoder_layer = TransformerDecoderLayer(d_model=d_model, \n",
    "                                                nhead=nhead, \n",
    "                                                dim_feedforward=dim_feedforward,\n",
    "                                                dropout=dropout,\n",
    "                                                batch_first=True,\n",
    "                                                activation='gelu'\n",
    "                                               )\n",
    "        decoder_norm = LayerNorm(d_model)\n",
    "        self.transformer_decoder = TransformerDecoder(decoder_layer, \n",
    "                                                      num_layers=num_decoder_layers, \n",
    "                                                      norm=decoder_norm)\n",
    "        \n",
    "        #出力層の定義\n",
    "        self.output = nn.Linear(d_model, d_output)\n",
    "        \n",
    "\n",
    "    def forward(self, src, tgt, mask_src, mask_tgt):\n",
    "        #mask_src, mask_tgtはセルフアテンションの際に未来のデータにアテンションを向けないためのマスク\n",
    "        \n",
    "        embedding_src = self.positional_encoding(self.token_embedding_src(src))\n",
    "        memory = self.transformer_encoder(embedding_src, mask_src)\n",
    "        \n",
    "        embedding_tgt = self.positional_encoding(self.token_embedding_tgt(tgt))\n",
    "        outs = self.transformer_decoder(embedding_tgt, memory, mask_tgt)\n",
    "        \n",
    "        output = self.output(outs)\n",
    "        return output\n",
    "\n",
    "    def encode(self, src, mask_src):\n",
    "        return self.transformer_encoder(self.positional_encoding(self.token_embedding_src(src)), mask_src)\n",
    "\n",
    "    def decode(self, tgt, memory, mask_tgt):\n",
    "        return self.transformer_decoder(self.positional_encoding(self.token_embedding_tgt(tgt)), memory, mask_tgt)\n"
   ]
  },
  {
   "cell_type": "markdown",
   "id": "fa4bf1d3-d262-4037-867d-5015307d65c1",
   "metadata": {},
   "source": [
    "### マスクの定義"
   ]
  },
  {
   "cell_type": "code",
   "execution_count": 6,
   "id": "80ee8696-c970-4578-ac4f-3dd176a62d01",
   "metadata": {
    "tags": []
   },
   "outputs": [],
   "source": [
    "def create_mask(src, tgt):\n",
    "    \n",
    "    seq_len_src = src.shape[1]\n",
    "    seq_len_tgt = tgt.shape[1]\n",
    "\n",
    "    mask_tgt = generate_square_subsequent_mask(seq_len_tgt).to(device)\n",
    "    mask_src = generate_square_subsequent_mask(seq_len_src).to(device)\n",
    "\n",
    "    return mask_src, mask_tgt\n",
    "\n",
    "\n",
    "def generate_square_subsequent_mask(seq_len):\n",
    "    mask = torch.triu(torch.full((seq_len, seq_len), float('-inf')), diagonal=1)\n",
    "    return mask"
   ]
  },
  {
   "cell_type": "markdown",
   "id": "7f938ba4-0680-4ddf-9ad0-b781079ba794",
   "metadata": {},
   "source": [
    "### 訓練、評価の処理を定義"
   ]
  },
  {
   "cell_type": "code",
   "execution_count": 7,
   "id": "9246e19c-1f7c-455a-add2-836c663f552b",
   "metadata": {
    "tags": []
   },
   "outputs": [],
   "source": [
    "def train(model, data_provider, optimizer, criterion):\n",
    "    model.train()\n",
    "    total_loss = []\n",
    "    for src, tgt in data_provider:\n",
    "        \n",
    "        src = src.float().to(device)\n",
    "        tgt = tgt.float().to(device)\n",
    "\n",
    "        input_tgt = torch.cat((src[:,-1:,:],tgt[:,:-1,:]), dim=1)\n",
    "\n",
    "        mask_src, mask_tgt = create_mask(src, input_tgt)\n",
    "\n",
    "        output = model(\n",
    "            src=src, tgt=input_tgt, \n",
    "            mask_src=mask_src, mask_tgt=mask_tgt\n",
    "        )\n",
    "\n",
    "        optimizer.zero_grad()\n",
    "\n",
    "        loss = criterion(output, tgt)\n",
    "        loss.backward()\n",
    "        total_loss.append(loss.cpu().detach())\n",
    "        optimizer.step()\n",
    "        \n",
    "    return np.average(total_loss)\n",
    "\n",
    "\n",
    "def evaluate(flag, model, data_provider, criterion):\n",
    "    model.eval()\n",
    "    total_loss = []\n",
    "    for src, tgt in data_provider:\n",
    "        \n",
    "        src = src.float().to(device)\n",
    "        tgt = tgt.float().to(device)\n",
    "\n",
    "        seq_len_src = src.shape[1]\n",
    "        mask_src = (torch.zeros(seq_len_src, seq_len_src)).type(torch.bool)\n",
    "        mask_src = mask_src.float().to(device)\n",
    "    \n",
    "        memory = model.encode(src, mask_src)\n",
    "        outputs = src[:, -1:, :]\n",
    "        seq_len_tgt = tgt.shape[1]\n",
    "    \n",
    "        for i in range(seq_len_tgt - 1):\n",
    "        \n",
    "            mask_tgt = (generate_square_subsequent_mask(outputs.size(1))).to(device)\n",
    "        \n",
    "            output = model.decode(outputs, memory, mask_tgt)\n",
    "            output = model.output(output)\n",
    "\n",
    "            outputs = torch.cat([outputs, output[:, -1:, :]], dim=1)\n",
    "        \n",
    "        loss = criterion(outputs, tgt)\n",
    "        total_loss.append(loss.cpu().detach())\n",
    "        \n",
    "    if flag=='test':\n",
    "        true = torch.cat((src, tgt), dim=1)\n",
    "        pred = torch.cat((src, output), dim=1)\n",
    "        plt.plot(true.squeeze().cpu().detach().numpy(), label='true')\n",
    "        plt.plot(pred.squeeze().cpu().detach().numpy(), label='pred')\n",
    "        plt.legend()\n",
    "        plt.savefig('test.pdf')\n",
    "        \n",
    "    return np.average(total_loss)"
   ]
  },
  {
   "cell_type": "markdown",
   "id": "59a3a82e-8ef8-4e39-959b-4a276faf6f18",
   "metadata": {},
   "source": [
    "### パラメータなどの定義"
   ]
  },
  {
   "cell_type": "code",
   "execution_count": 8,
   "id": "7d190fe4-ac73-49a7-97ae-8f449356534d",
   "metadata": {
    "tags": []
   },
   "outputs": [],
   "source": [
    "d_input = 1\n",
    "d_output = 1\n",
    "d_model = 512\n",
    "nhead = 8\n",
    "dim_feedforward = 2048\n",
    "num_encoder_layers = 1\n",
    "num_decoder_layers = 1\n",
    "dropout = 0.01\n",
    "src_len = 36\n",
    "tgt_len = 12\n",
    "batch_size = 1\n",
    "epochs = 30\n",
    "best_loss = float('Inf')\n",
    "best_model = None\n",
    "\n",
    "model = Transformer(num_encoder_layers=num_encoder_layers,\n",
    "                    num_decoder_layers=num_decoder_layers,\n",
    "                    d_model=d_model,\n",
    "                    d_input=d_input, \n",
    "                    d_output=d_output,\n",
    "                    dim_feedforward=dim_feedforward,\n",
    "                    dropout=dropout, nhead=nhead\n",
    "                   )\n",
    "\n",
    "for p in model.parameters():\n",
    "    if p.dim() > 1:\n",
    "        nn.init.xavier_uniform_(p)\n",
    "\n",
    "model = model.to(device)\n",
    "\n",
    "criterion = torch.nn.MSELoss()\n",
    "\n",
    "optimizer = torch.optim.RAdam(model.parameters(), lr=0.0001)"
   ]
  },
  {
   "cell_type": "markdown",
   "id": "0039e832-a087-4849-a7de-629f8f28cc3c",
   "metadata": {},
   "source": [
    "### 訓練と評価用データにおける評価"
   ]
  },
  {
   "cell_type": "code",
   "execution_count": 9,
   "id": "d763045e-7c1b-490a-b2b0-42c0e3bb8bc6",
   "metadata": {
    "tags": []
   },
   "outputs": [
    {
     "name": "stdout",
     "output_type": "stream",
     "text": [
      "[10/30] train loss: 0.10, valid loss: 0.31\n",
      "[20/30] train loss: 0.07, valid loss: 0.40\n",
      "[30/30] train loss: 0.05, valid loss: 0.30\n"
     ]
    }
   ],
   "source": [
    "valid_losses = []\n",
    "for epoch in range(1, epochs + 1):\n",
    "    \n",
    "    loss_train = train(\n",
    "        model=model, data_provider=data_provider('train', src_len, tgt_len, batch_size), optimizer=optimizer,\n",
    "        criterion=criterion\n",
    "    )\n",
    "        \n",
    "    loss_valid = evaluate(\n",
    "        flag='val', model=model, data_provider=data_provider('val', src_len, tgt_len, batch_size), criterion=criterion\n",
    "    )\n",
    "    \n",
    "    if epoch%10==0:\n",
    "        print('[{}/{}] train loss: {:.2f}, valid loss: {:.2f}'.format(\n",
    "            epoch, epochs,\n",
    "            loss_train, loss_valid,\n",
    "        ))\n",
    "        \n",
    "    valid_losses.append(loss_valid)\n",
    "    \n",
    "    if best_loss > loss_valid:\n",
    "        best_loss = loss_valid\n",
    "        best_model = model"
   ]
  },
  {
   "cell_type": "markdown",
   "id": "e3b91623-835e-4973-ad9e-cd10ea3e3590",
   "metadata": {},
   "source": [
    "### テスト用データにおける予測"
   ]
  },
  {
   "cell_type": "code",
   "execution_count": 10,
   "id": "fd64ce88-8d3c-431f-9cca-a9de61d92bb0",
   "metadata": {},
   "outputs": [
    {
     "data": {
      "text/plain": [
       "0.5851381"
      ]
     },
     "execution_count": 10,
     "metadata": {},
     "output_type": "execute_result"
    },
    {
     "data": {
      "image/png": "[encoded data removed]",
      "text/plain": [
       "<Figure size 432x288 with 1 Axes>"
      ]
     },
     "metadata": {
      "needs_background": "light"
     },
     "output_type": "display_data"
    }
   ],
   "source": [
    "evaluate(flag='test', model=best_model, data_provider=data_provider('test', src_len, tgt_len, batch_size), criterion=criterion)"
   ]
  }
 ],
 "metadata": {
  "kernelspec": {
   "display_name": "Python 3.9",
   "language": "python",
   "name": "python3.9"
  },
  "language_info": {
   "codemirror_mode": {
    "name": "ipython",
    "version": 3
   },
   "file_extension": ".py",
   "mimetype": "text/x-python",
   "name": "python",
   "nbconvert_exporter": "python",
   "pygments_lexer": "ipython3",
   "version": "3.9.7"
  }
 },
 "nbformat": 4,
 "nbformat_minor": 5
}
